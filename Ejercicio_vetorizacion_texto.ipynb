{
 "cells": [
  {
   "cell_type": "code",
   "execution_count": 1,
   "id": "86ccdbb6",
   "metadata": {},
   "outputs": [],
   "source": [
    "import numpy as np\n",
    "import pandas as pd\n",
    "from unidecode import unidecode"
   ]
  },
  {
   "cell_type": "code",
   "execution_count": 2,
   "id": "6799c6b8",
   "metadata": {},
   "outputs": [
    {
     "data": {
      "text/plain": [
       "'La intención de este jupyter notebook es consolidar los conocimientos y habilidades practicas \\nen el uso de operaciones vectoriales en texto o string, estas operaciones se aplicaran en columnas\\nde un data frame, es decir en Series. Utilizare una data de una prueba técnica que no pude limpiar'"
      ]
     },
     "execution_count": 2,
     "metadata": {},
     "output_type": "execute_result"
    }
   ],
   "source": [
    "'''La intención de este jupyter notebook es consolidar los conocimientos y habilidades practicas \n",
    "en el uso de operaciones vectoriales en texto o string, estas operaciones se aplicaran en columnas\n",
    "de un data frame, es decir en Series. Utilizare una data de una prueba técnica que no pude limpiar'''"
   ]
  },
  {
   "cell_type": "code",
   "execution_count": 3,
   "id": "f5e17fab",
   "metadata": {},
   "outputs": [],
   "source": [
    "# Inicialmente voy a cargar el dataset, este se encuentra en formato excel\n",
    "# Por esta razón utilizaré el comando pd.read_excel()\n",
    "# y especificare algunos parametros para el cargue adecuado de la data\n",
    "# sheet_name= \"base\" --> con este parametro especifico la hoja o hojas del archivo de Excel que se desea leer.\n",
    "# header=0 --> Indica la fila que se utilizará como encabezado de las columnas.\n",
    "# usecols= \"A:AM\" --> Permite seleccionar las columnas que se desean leer.\n",
    "# na_filter= False --> e utiliza para especificar si se deben detectar y reemplazar los valores de celdas vacías o no válidas (como \"NaN\" o \"NA\") durante la lectura de un archivo Excel."
   ]
  },
  {
   "cell_type": "code",
   "execution_count": 4,
   "id": "6ffc8bf8",
   "metadata": {},
   "outputs": [],
   "source": [
    "educacion=pd.read_excel(\"C:/Users/Andres/Downloads/Inscritos-2015-2021.xlsx\",sheet_name=\"base\", header=0, usecols=\"A:AM\", na_filter=False)"
   ]
  },
  {
   "cell_type": "code",
   "execution_count": 5,
   "id": "f101d1f9",
   "metadata": {},
   "outputs": [
    {
     "data": {
      "text/html": [
       "<div>\n",
       "<style scoped>\n",
       "    .dataframe tbody tr th:only-of-type {\n",
       "        vertical-align: middle;\n",
       "    }\n",
       "\n",
       "    .dataframe tbody tr th {\n",
       "        vertical-align: top;\n",
       "    }\n",
       "\n",
       "    .dataframe thead th {\n",
       "        text-align: right;\n",
       "    }\n",
       "</style>\n",
       "<table border=\"1\" class=\"dataframe\">\n",
       "  <thead>\n",
       "    <tr style=\"text-align: right;\">\n",
       "      <th></th>\n",
       "      <th>CÓDIGO DE LA INSTITUCIÓN</th>\n",
       "      <th>IES_PADRE</th>\n",
       "      <th>INSTITUCIÓN DE EDUCACIÓN SUPERIOR (IES)</th>\n",
       "      <th>PRINCIPAL O SECCIONAL</th>\n",
       "      <th>ID SECTOR</th>\n",
       "      <th>IES\\tSECTOR IES</th>\n",
       "      <th>ID CARACTER</th>\n",
       "      <th>CARACTER IES</th>\n",
       "      <th>CÓDIGO DEL DEPARTAMENTO (IES)</th>\n",
       "      <th>DEPARTAMENTO DE DOMICILIO DE LA IES</th>\n",
       "      <th>...</th>\n",
       "      <th>DESC CINE CODIGO DETALLADO</th>\n",
       "      <th>CÓDIGO DEL DEPARTAMENTO (PROGRAMA)</th>\n",
       "      <th>DEPARTAMENTO DE OFERTA DEL PROGRAMA</th>\n",
       "      <th>CÓDIGO DEL MUNICIPIO (PROGRAMA)</th>\n",
       "      <th>MUNICIPIO DE OFERTA DEL PROGRAMA</th>\n",
       "      <th>ID SEXO</th>\n",
       "      <th>SEXO</th>\n",
       "      <th>AÑO</th>\n",
       "      <th>SEMESTRE</th>\n",
       "      <th>INSCRITOS</th>\n",
       "    </tr>\n",
       "  </thead>\n",
       "  <tbody>\n",
       "    <tr>\n",
       "      <th>0</th>\n",
       "      <td>1101</td>\n",
       "      <td>1101</td>\n",
       "      <td>UNIVERSIDAD NACIONAL DE COLOMBIA</td>\n",
       "      <td>PRINCIPAL</td>\n",
       "      <td>1</td>\n",
       "      <td>OFICIAL</td>\n",
       "      <td>4</td>\n",
       "      <td>UNIVERSIDAD</td>\n",
       "      <td>11</td>\n",
       "      <td>BOGOTA D.C.</td>\n",
       "      <td>...</td>\n",
       "      <td></td>\n",
       "      <td>11</td>\n",
       "      <td>BOGOTA D.C.</td>\n",
       "      <td>11001</td>\n",
       "      <td>BOGOTA D.C.</td>\n",
       "      <td>2</td>\n",
       "      <td>FEMENINO</td>\n",
       "      <td>2015</td>\n",
       "      <td>1</td>\n",
       "      <td>44</td>\n",
       "    </tr>\n",
       "    <tr>\n",
       "      <th>1</th>\n",
       "      <td>1101</td>\n",
       "      <td>1101</td>\n",
       "      <td>UNIVERSIDAD NACIONAL DE COLOMBIA</td>\n",
       "      <td>PRINCIPAL</td>\n",
       "      <td>1</td>\n",
       "      <td>OFICIAL</td>\n",
       "      <td>4</td>\n",
       "      <td>UNIVERSIDAD</td>\n",
       "      <td>11</td>\n",
       "      <td>BOGOTA D.C.</td>\n",
       "      <td>...</td>\n",
       "      <td></td>\n",
       "      <td>11</td>\n",
       "      <td>BOGOTA D.C.</td>\n",
       "      <td>11001</td>\n",
       "      <td>BOGOTA D.C.</td>\n",
       "      <td>1</td>\n",
       "      <td>MASCULINO</td>\n",
       "      <td>2015</td>\n",
       "      <td>1</td>\n",
       "      <td>88</td>\n",
       "    </tr>\n",
       "    <tr>\n",
       "      <th>2</th>\n",
       "      <td>1101</td>\n",
       "      <td>1101</td>\n",
       "      <td>UNIVERSIDAD NACIONAL DE COLOMBIA</td>\n",
       "      <td>PRINCIPAL</td>\n",
       "      <td>1</td>\n",
       "      <td>OFICIAL</td>\n",
       "      <td>4</td>\n",
       "      <td>UNIVERSIDAD</td>\n",
       "      <td>11</td>\n",
       "      <td>BOGOTA D.C.</td>\n",
       "      <td>...</td>\n",
       "      <td></td>\n",
       "      <td>11</td>\n",
       "      <td>BOGOTA D.C.</td>\n",
       "      <td>11001</td>\n",
       "      <td>BOGOTA D.C.</td>\n",
       "      <td>2</td>\n",
       "      <td>FEMENINO</td>\n",
       "      <td>2015</td>\n",
       "      <td>1</td>\n",
       "      <td>50</td>\n",
       "    </tr>\n",
       "    <tr>\n",
       "      <th>3</th>\n",
       "      <td>1101</td>\n",
       "      <td>1101</td>\n",
       "      <td>UNIVERSIDAD NACIONAL DE COLOMBIA</td>\n",
       "      <td>PRINCIPAL</td>\n",
       "      <td>1</td>\n",
       "      <td>OFICIAL</td>\n",
       "      <td>4</td>\n",
       "      <td>UNIVERSIDAD</td>\n",
       "      <td>11</td>\n",
       "      <td>BOGOTA D.C.</td>\n",
       "      <td>...</td>\n",
       "      <td></td>\n",
       "      <td>11</td>\n",
       "      <td>BOGOTA D.C.</td>\n",
       "      <td>11001</td>\n",
       "      <td>BOGOTA D.C.</td>\n",
       "      <td>1</td>\n",
       "      <td>MASCULINO</td>\n",
       "      <td>2015</td>\n",
       "      <td>1</td>\n",
       "      <td>17</td>\n",
       "    </tr>\n",
       "    <tr>\n",
       "      <th>4</th>\n",
       "      <td>1101</td>\n",
       "      <td>1101</td>\n",
       "      <td>UNIVERSIDAD NACIONAL DE COLOMBIA</td>\n",
       "      <td>PRINCIPAL</td>\n",
       "      <td>1</td>\n",
       "      <td>OFICIAL</td>\n",
       "      <td>4</td>\n",
       "      <td>UNIVERSIDAD</td>\n",
       "      <td>11</td>\n",
       "      <td>BOGOTA D.C.</td>\n",
       "      <td>...</td>\n",
       "      <td></td>\n",
       "      <td>11</td>\n",
       "      <td>BOGOTA D.C.</td>\n",
       "      <td>11001</td>\n",
       "      <td>BOGOTA D.C.</td>\n",
       "      <td>2</td>\n",
       "      <td>FEMENINO</td>\n",
       "      <td>2015</td>\n",
       "      <td>1</td>\n",
       "      <td>64</td>\n",
       "    </tr>\n",
       "  </tbody>\n",
       "</table>\n",
       "<p>5 rows × 39 columns</p>\n",
       "</div>"
      ],
      "text/plain": [
       "   CÓDIGO DE LA INSTITUCIÓN  IES_PADRE  \\\n",
       "0                      1101       1101   \n",
       "1                      1101       1101   \n",
       "2                      1101       1101   \n",
       "3                      1101       1101   \n",
       "4                      1101       1101   \n",
       "\n",
       "  INSTITUCIÓN DE EDUCACIÓN SUPERIOR (IES) PRINCIPAL O SECCIONAL  ID SECTOR  \\\n",
       "0        UNIVERSIDAD NACIONAL DE COLOMBIA             PRINCIPAL          1   \n",
       "1        UNIVERSIDAD NACIONAL DE COLOMBIA             PRINCIPAL          1   \n",
       "2        UNIVERSIDAD NACIONAL DE COLOMBIA             PRINCIPAL          1   \n",
       "3        UNIVERSIDAD NACIONAL DE COLOMBIA             PRINCIPAL          1   \n",
       "4        UNIVERSIDAD NACIONAL DE COLOMBIA             PRINCIPAL          1   \n",
       "\n",
       "  IES\\tSECTOR IES  ID CARACTER CARACTER IES  CÓDIGO DEL DEPARTAMENTO (IES)  \\\n",
       "0         OFICIAL            4  UNIVERSIDAD                             11   \n",
       "1         OFICIAL            4  UNIVERSIDAD                             11   \n",
       "2         OFICIAL            4  UNIVERSIDAD                             11   \n",
       "3         OFICIAL            4  UNIVERSIDAD                             11   \n",
       "4         OFICIAL            4  UNIVERSIDAD                             11   \n",
       "\n",
       "  DEPARTAMENTO DE DOMICILIO DE LA IES  ...  DESC CINE CODIGO DETALLADO  \\\n",
       "0                         BOGOTA D.C.  ...                               \n",
       "1                         BOGOTA D.C.  ...                               \n",
       "2                         BOGOTA D.C.  ...                               \n",
       "3                         BOGOTA D.C.  ...                               \n",
       "4                         BOGOTA D.C.  ...                               \n",
       "\n",
       "  CÓDIGO DEL DEPARTAMENTO (PROGRAMA) DEPARTAMENTO DE OFERTA DEL PROGRAMA  \\\n",
       "0                                 11                         BOGOTA D.C.   \n",
       "1                                 11                         BOGOTA D.C.   \n",
       "2                                 11                         BOGOTA D.C.   \n",
       "3                                 11                         BOGOTA D.C.   \n",
       "4                                 11                         BOGOTA D.C.   \n",
       "\n",
       "  CÓDIGO DEL MUNICIPIO (PROGRAMA) MUNICIPIO DE OFERTA DEL PROGRAMA ID SEXO  \\\n",
       "0                           11001                      BOGOTA D.C.       2   \n",
       "1                           11001                      BOGOTA D.C.       1   \n",
       "2                           11001                      BOGOTA D.C.       2   \n",
       "3                           11001                      BOGOTA D.C.       1   \n",
       "4                           11001                      BOGOTA D.C.       2   \n",
       "\n",
       "        SEXO   AÑO SEMESTRE INSCRITOS  \n",
       "0   FEMENINO  2015        1        44  \n",
       "1  MASCULINO  2015        1        88  \n",
       "2   FEMENINO  2015        1        50  \n",
       "3  MASCULINO  2015        1        17  \n",
       "4   FEMENINO  2015        1        64  \n",
       "\n",
       "[5 rows x 39 columns]"
      ]
     },
     "execution_count": 5,
     "metadata": {},
     "output_type": "execute_result"
    }
   ],
   "source": [
    "# Verificamos que el dataframe se haya cargado de forma correcta con el .head()\n",
    "educacion.head()"
   ]
  },
  {
   "cell_type": "code",
   "execution_count": 6,
   "id": "a65a8001",
   "metadata": {},
   "outputs": [],
   "source": [
    "# Ahora creamos una copia del dataframe, para manipular la copia.\n",
    "inscritos= educacion.copy()"
   ]
  },
  {
   "cell_type": "code",
   "execution_count": 7,
   "id": "8bcfb1b9",
   "metadata": {},
   "outputs": [
    {
     "name": "stdout",
     "output_type": "stream",
     "text": [
      "<class 'pandas.core.frame.DataFrame'>\n",
      "RangeIndex: 330133 entries, 0 to 330132\n",
      "Data columns (total 39 columns):\n",
      " #   Column                                   Non-Null Count   Dtype \n",
      "---  ------                                   --------------   ----- \n",
      " 0   CÓDIGO DE LA INSTITUCIÓN                 330133 non-null  int64 \n",
      " 1   IES_PADRE                                330133 non-null  int64 \n",
      " 2   INSTITUCIÓN DE EDUCACIÓN SUPERIOR (IES)  330133 non-null  object\n",
      " 3   PRINCIPAL O SECCIONAL                    330133 non-null  object\n",
      " 4   ID SECTOR                                330133 non-null  int64 \n",
      " 5   IES\tSECTOR IES                           330133 non-null  object\n",
      " 6   ID CARACTER                              330133 non-null  int64 \n",
      " 7   CARACTER IES                             330133 non-null  object\n",
      " 8   CÓDIGO DEL DEPARTAMENTO (IES)            330133 non-null  int64 \n",
      " 9   DEPARTAMENTO DE DOMICILIO DE LA IES      330133 non-null  object\n",
      " 10  CÓDIGO DEL MUNICIPIO (IES)               330133 non-null  int64 \n",
      " 11  MUNICIPIO DE DOMICILIO DE LA IES         330133 non-null  object\n",
      " 12  CÓDIGO SNIES DEL PROGRAMA                330133 non-null  object\n",
      " 13  PROGRAMA ACADÉMICO                       330133 non-null  object\n",
      " 14  ID NIVEL ACADÉMICO                       330133 non-null  object\n",
      " 15  NIVEL ACADÉMICO                          330133 non-null  object\n",
      " 16  ID NIVEL DE FORMACIÓN                    330133 non-null  object\n",
      " 17  NIVEL DE FORMACIÓN                       330133 non-null  object\n",
      " 18  ID METODOLOGÍA                           330133 non-null  object\n",
      " 19  METODOLOGÍA                              330133 non-null  object\n",
      " 20  ID ÁREA                                  330133 non-null  object\n",
      " 21  ÁREA DE CONOCIMIENTO                     330133 non-null  object\n",
      " 22  ID NÚCLEO                                330133 non-null  object\n",
      " 23  NÚCLEO BÁSICO DEL CONOCIMIENTO (NBC)     330133 non-null  object\n",
      " 24  ID CINE CAMPO AMPLIO                     330133 non-null  object\n",
      " 25  DESC CINE CAMPO AMPLIO                   330133 non-null  object\n",
      " 26  ID CINE CAMPO ESPECIFICO                 330133 non-null  object\n",
      " 27  DESC CINE CAMPO ESPECIFICO               330133 non-null  object\n",
      " 28  ID CINE CODIGO DETALLADO                 330133 non-null  object\n",
      " 29  DESC CINE CODIGO DETALLADO               330133 non-null  object\n",
      " 30  CÓDIGO DEL DEPARTAMENTO (PROGRAMA)       330133 non-null  object\n",
      " 31  DEPARTAMENTO DE OFERTA DEL PROGRAMA      330133 non-null  object\n",
      " 32  CÓDIGO DEL MUNICIPIO (PROGRAMA)          330133 non-null  object\n",
      " 33  MUNICIPIO DE OFERTA DEL PROGRAMA         330133 non-null  object\n",
      " 34  ID SEXO                                  330133 non-null  int64 \n",
      " 35  SEXO                                     330133 non-null  object\n",
      " 36  AÑO                                      330133 non-null  int64 \n",
      " 37  SEMESTRE                                 330133 non-null  int64 \n",
      " 38  INSCRITOS                                330133 non-null  int64 \n",
      "dtypes: int64(10), object(29)\n",
      "memory usage: 98.2+ MB\n"
     ]
    }
   ],
   "source": [
    "# Comenzamos con el analisis exploratorio de los datos, primero observaremos la estructura y tipo de datos.\n",
    "inscritos.info()"
   ]
  },
  {
   "cell_type": "code",
   "execution_count": 8,
   "id": "5806c623",
   "metadata": {},
   "outputs": [
    {
     "data": {
      "text/plain": [
       "Index(['CÓDIGO DE LA INSTITUCIÓN', 'IES_PADRE',\n",
       "       'INSTITUCIÓN DE EDUCACIÓN SUPERIOR (IES)', 'PRINCIPAL O SECCIONAL',\n",
       "       'ID SECTOR', 'IES\\tSECTOR IES', 'ID CARACTER', 'CARACTER IES',\n",
       "       'CÓDIGO DEL DEPARTAMENTO (IES)', 'DEPARTAMENTO DE DOMICILIO DE LA IES',\n",
       "       'CÓDIGO DEL MUNICIPIO (IES)', 'MUNICIPIO DE DOMICILIO DE LA IES',\n",
       "       'CÓDIGO SNIES DEL PROGRAMA', 'PROGRAMA ACADÉMICO', 'ID NIVEL ACADÉMICO',\n",
       "       'NIVEL ACADÉMICO', 'ID NIVEL DE FORMACIÓN', 'NIVEL DE FORMACIÓN',\n",
       "       'ID METODOLOGÍA', 'METODOLOGÍA', 'ID ÁREA', 'ÁREA DE CONOCIMIENTO',\n",
       "       'ID NÚCLEO', 'NÚCLEO BÁSICO DEL CONOCIMIENTO (NBC)',\n",
       "       'ID CINE CAMPO AMPLIO', 'DESC CINE CAMPO AMPLIO',\n",
       "       'ID CINE CAMPO ESPECIFICO', 'DESC CINE CAMPO ESPECIFICO',\n",
       "       'ID CINE CODIGO DETALLADO', 'DESC CINE CODIGO DETALLADO',\n",
       "       'CÓDIGO DEL DEPARTAMENTO (PROGRAMA)',\n",
       "       'DEPARTAMENTO DE OFERTA DEL PROGRAMA',\n",
       "       'CÓDIGO DEL MUNICIPIO (PROGRAMA)', 'MUNICIPIO DE OFERTA DEL PROGRAMA',\n",
       "       'ID SEXO', 'SEXO', 'AÑO', 'SEMESTRE', 'INSCRITOS'],\n",
       "      dtype='object')"
      ]
     },
     "execution_count": 8,
     "metadata": {},
     "output_type": "execute_result"
    }
   ],
   "source": [
    "# ahora verificaremos el nombre de las columnas del dataframe\n",
    "inscritos.columns"
   ]
  },
  {
   "cell_type": "code",
   "execution_count": 9,
   "id": "e3008645",
   "metadata": {},
   "outputs": [],
   "source": [
    "# convertimos el nombre de las columnas para poder manipularlas mas facilmente\n",
    "# Se eliminan los espacios en blanco con str.strip()\n",
    "# Luego se reemplazan los espacios en blanco \" \", con _ a través de la funcion replace\n",
    "\n",
    "inscritos.columns = inscritos.columns.str.strip().str.replace(\" \", \"_\")"
   ]
  },
  {
   "cell_type": "code",
   "execution_count": 10,
   "id": "ff952004",
   "metadata": {},
   "outputs": [
    {
     "data": {
      "text/plain": [
       "Index(['CÓDIGO_DE_LA_INSTITUCIÓN', 'IES_PADRE',\n",
       "       'INSTITUCIÓN_DE_EDUCACIÓN_SUPERIOR_(IES)', 'PRINCIPAL_O_SECCIONAL',\n",
       "       'ID_SECTOR', 'IES\\tSECTOR_IES', 'ID_CARACTER', 'CARACTER_IES',\n",
       "       'CÓDIGO_DEL_DEPARTAMENTO_(IES)', 'DEPARTAMENTO_DE_DOMICILIO_DE_LA_IES',\n",
       "       'CÓDIGO_DEL_MUNICIPIO_(IES)', 'MUNICIPIO_DE_DOMICILIO_DE_LA_IES',\n",
       "       'CÓDIGO_SNIES_DEL_PROGRAMA', 'PROGRAMA_ACADÉMICO', 'ID_NIVEL_ACADÉMICO',\n",
       "       'NIVEL_ACADÉMICO', 'ID_NIVEL_DE_FORMACIÓN', 'NIVEL_DE_FORMACIÓN',\n",
       "       'ID_METODOLOGÍA', 'METODOLOGÍA', 'ID_ÁREA', 'ÁREA_DE_CONOCIMIENTO',\n",
       "       'ID_NÚCLEO', 'NÚCLEO_BÁSICO_DEL_CONOCIMIENTO_(NBC)',\n",
       "       'ID_CINE_CAMPO_AMPLIO', 'DESC_CINE_CAMPO_AMPLIO',\n",
       "       'ID_CINE_CAMPO_ESPECIFICO', 'DESC_CINE_CAMPO_ESPECIFICO',\n",
       "       'ID_CINE_CODIGO_DETALLADO', 'DESC_CINE_CODIGO_DETALLADO',\n",
       "       'CÓDIGO_DEL_DEPARTAMENTO_(PROGRAMA)',\n",
       "       'DEPARTAMENTO_DE_OFERTA_DEL_PROGRAMA',\n",
       "       'CÓDIGO_DEL_MUNICIPIO_(PROGRAMA)', 'MUNICIPIO_DE_OFERTA_DEL_PROGRAMA',\n",
       "       'ID_SEXO', 'SEXO', 'AÑO', 'SEMESTRE', 'INSCRITOS'],\n",
       "      dtype='object')"
      ]
     },
     "execution_count": 10,
     "metadata": {},
     "output_type": "execute_result"
    }
   ],
   "source": [
    "inscritos.columns"
   ]
  },
  {
   "cell_type": "code",
   "execution_count": 11,
   "id": "f1acb523",
   "metadata": {},
   "outputs": [
    {
     "data": {
      "text/plain": [
       "array(['BOGOTA D.C.', 'ANTIOQUIA', 'CALDAS', 'VALLE DEL CAUCA', 'BOYACA',\n",
       "       'CAUCA', 'RISARALDA', 'CORDOBA', 'HUILA', 'CAQUETA', 'CHOCO',\n",
       "       'META', 'CESAR', 'AMAZONAS', 'SAN ANDRES Y PROVIDENCIA',\n",
       "       'ATLANTICO', 'SANTANDER', 'BOLIVAR', 'NARINO', 'TOLIMA', 'QUINDIO',\n",
       "       'NORTE DE SANTANDER', 'MAGDALENA', 'CUNDINAMARCA', 'SUCRE',\n",
       "       'LA GUAJIRA', 'CASANARE', 'PUTUMAYO', 'Bogotá D.C', 'Antioquia',\n",
       "       'Caldas', 'Valle del Cauca', 'Boyacá', 'Magdalena', 'Cauca',\n",
       "       'Risaralda', 'Córdoba', 'Bolivar', 'Huila', 'Caquetá', 'Chocó',\n",
       "       'Meta', 'Cesar', 'Amazonas', 'San Andrés y Providencia',\n",
       "       'Atlántico', 'Santander', 'Nariño', 'Tolima', 'Quindío',\n",
       "       'Norte de Santander', 'Cundinamarca', 'Sucre', 'Guajira',\n",
       "       'Casanare', 'Putumayo', 'Arauca', 'BOGOTA D.C', 'NARIÑO',\n",
       "       'GUAJIRA', 'Bogotá D.C.', 'Valle del C', 'Archipiélag', 'Bolívar',\n",
       "       'Norte de Sa', 'Cundinamarc', 'La Guajira',\n",
       "       'Archipiélago de San Andrés, Providencia y Santa Catalina',\n",
       "       'Bogotá, D.C.', 'Valle Del Cauca',\n",
       "       'Archipiélago De San Andrés, Providencia Y Santa Catalina',\n",
       "       'Norte De Santander'], dtype=object)"
      ]
     },
     "execution_count": 11,
     "metadata": {},
     "output_type": "execute_result"
    }
   ],
   "source": [
    "# Ahora vamos a explorar la columna municipio_de_domicilio_de_la_ies\n",
    "# Identificamos los valores unicos de esta columna\n",
    "# Esta columna es de tipo dtype=object\n",
    "\n",
    "inscritos['DEPARTAMENTO_DE_DOMICILIO_DE_LA_IES'].unique()"
   ]
  },
  {
   "cell_type": "code",
   "execution_count": 12,
   "id": "0d440aeb",
   "metadata": {},
   "outputs": [],
   "source": [
    "# Con este analisis exploratorio de la columna o Serie DEPARTAMENTO_DE_DOMICILIO_DE_LA_IES podemos concluir lo siguiente:\n",
    "# 1. Hay registros en mayuscula y registros en minuscula\n",
    "# 2. Hay registros con caracteres especiales, especificamente tilde (´)\n",
    "# 3. Hay registros como bogota, san andres, guajira, nariño, etc. Que estan escritos de distintas maneras\n",
    "# 4. Los datos de la Serie son de tipo Object\n",
    "\n"
   ]
  },
  {
   "cell_type": "code",
   "execution_count": 13,
   "id": "8a3309c5",
   "metadata": {},
   "outputs": [
    {
     "data": {
      "text/plain": [
       "0                BOGOTA D.C.\n",
       "1                BOGOTA D.C.\n",
       "2                BOGOTA D.C.\n",
       "3                BOGOTA D.C.\n",
       "4                BOGOTA D.C.\n",
       "                 ...        \n",
       "330128    Norte De Santander\n",
       "330129    Norte De Santander\n",
       "330130    Norte De Santander\n",
       "330131    Norte De Santander\n",
       "330132    Norte De Santander\n",
       "Name: DEPARTAMENTO_DE_DOMICILIO_DE_LA_IES, Length: 330133, dtype: string"
      ]
     },
     "execution_count": 13,
     "metadata": {},
     "output_type": "execute_result"
    }
   ],
   "source": [
    "# Vamos a comenzar convirtiendo la columna de dtype=object a dtype=string\n",
    "inscritos['DEPARTAMENTO_DE_DOMICILIO_DE_LA_IES']=inscritos['DEPARTAMENTO_DE_DOMICILIO_DE_LA_IES'].astype('string')\n",
    "inscritos.DEPARTAMENTO_DE_DOMICILIO_DE_LA_IES"
   ]
  },
  {
   "cell_type": "code",
   "execution_count": 14,
   "id": "a3227f76",
   "metadata": {},
   "outputs": [
    {
     "data": {
      "text/plain": [
       "Bogotá D.C.                 56342\n",
       "BOGOTA D.C                  46840\n",
       "Bogotá, D.C.                29417\n",
       "Antioquia                   25295\n",
       "Bogotá D.C                  21710\n",
       "                            ...  \n",
       "Amazonas                       26\n",
       "Archipiélag                    18\n",
       "AMAZONAS                       18\n",
       "San Andrés y Providencia       13\n",
       "Arauca                          1\n",
       "Name: DEPARTAMENTO_DE_DOMICILIO_DE_LA_IES, Length: 72, dtype: Int64"
      ]
     },
     "execution_count": 14,
     "metadata": {},
     "output_type": "execute_result"
    }
   ],
   "source": [
    "# Vamos a explorar el conteo de valores de la serie\n",
    "inscritos['DEPARTAMENTO_DE_DOMICILIO_DE_LA_IES'].value_counts()"
   ]
  },
  {
   "cell_type": "code",
   "execution_count": 15,
   "id": "24dac444",
   "metadata": {},
   "outputs": [],
   "source": [
    "# El siguiente paso es la limpieza de los datos:\n",
    "# - strip() para eliminar los espacios innecesarios antes y después del texto.\n",
    "# - unidecode para uniformizar los caracteres.\n",
    "# - upper() para colocar en mayúsculas.\n",
    "# - replace() para eliminar caracteres innecesarios, especificamente los puntos y comas\n",
    "\n",
    "inscritos['DEPARTAMENTO_DE_DOMICILIO_DE_LA_IES'] = (\n",
    "    inscritos['DEPARTAMENTO_DE_DOMICILIO_DE_LA_IES']\n",
    "    .apply(lambda x:x.strip())\n",
    "    .apply(unidecode)\n",
    "    .str.upper()\n",
    "    .str.replace('[.,]', '', regex=True)\n",
    ")"
   ]
  },
  {
   "cell_type": "code",
   "execution_count": 17,
   "id": "757d2912",
   "metadata": {},
   "outputs": [],
   "source": [
    "# Ahora vamos a definir el diccionario para reemplazar las variables que sean erróneas.\n",
    "# Como se trata de una variable geográfica con casos limitados, bastará con explorar los datos únicos y crear el diccionario de reemplazos\n",
    "\n",
    "inscritos['DEPARTAMENTO_DE_DOMICILIO_DE_LA_IES'].unique()"
   ]
  },
  {
   "cell_type": "code",
   "execution_count": 18,
   "id": "18980b7a",
   "metadata": {},
   "outputs": [],
   "source": [
    "# De la revisión anterior, se define el diccionario_reemplazos y se realizan los cambios\n",
    "\n",
    "diccionario_reemplazos = {\n",
    "    'SAN ANDRES Y PROVIDENCIA':'SAN ANDRES_PROVIDENCIA',\n",
    "    'ARCHIPIELAGO DE SAN ANDRES PROVIDENCIA Y SANTA CATALINA': 'SAN ANDRES_PROVIDENCIA',\n",
    "    'ARCHIPIELAG': 'SAN ANDRES_PROVIDENCIA',\n",
    "    'CUNDINAMARC': 'CUNDINAMARCA',\n",
    "    'VALLE DEL C': 'VALLE DEL CAUCA',\n",
    "    'LA GUAJIRA': 'GUAJIRA',\n",
    "    'NORTE DE SA': 'NORTE DE SANTANDER',\n",
    "}\n",
    "\n",
    "inscritos['DEPARTAMENTO_DE_DOMICILIO_DE_LA_IES'] = inscritos['DEPARTAMENTO_DE_DOMICILIO_DE_LA_IES'].replace(diccionario_reemplazos)"
   ]
  },
  {
   "cell_type": "code",
   "execution_count": null,
   "id": "46c0befc",
   "metadata": {},
   "outputs": [],
   "source": [
    "# Se verifica la cantidad de datos únicos finales.\n",
    "\n",
    "print(\"Dato geográfico único\")\n",
    "print(inscritos.DEPARTAMENTO_DE_DOMICILIO_DE_LA_IES.unique())\n",
    "\n",
    "print(\"=\"*50)\n",
    "print(\"Cuenta de dato geográfico único\")\n",
    "print(inscritos.DEPARTAMENTO_DE_DOMICILIO_DE_LA_IES.nunique())"
   ]
  }
 ],
 "metadata": {
  "kernelspec": {
   "display_name": "Python 3 (ipykernel)",
   "language": "python",
   "name": "python3"
  },
  "language_info": {
   "codemirror_mode": {
    "name": "ipython",
    "version": 3
   },
   "file_extension": ".py",
   "mimetype": "text/x-python",
   "name": "python",
   "nbconvert_exporter": "python",
   "pygments_lexer": "ipython3",
   "version": "3.9.13"
  }
 },
 "nbformat": 4,
 "nbformat_minor": 5
}
