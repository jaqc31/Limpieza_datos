{
 "cells": [
  {
   "cell_type": "code",
   "execution_count": 1,
   "id": "86ccdbb6",
   "metadata": {},
   "outputs": [],
   "source": [
    "import numpy as np\n",
    "import pandas as pd"
   ]
  },
  {
   "cell_type": "code",
   "execution_count": 2,
   "id": "6799c6b8",
   "metadata": {},
   "outputs": [
    {
     "data": {
      "text/plain": [
       "'La intención de este jupyter notebook es consolidar los conocimientos y habilidades practicas \\nen el uso de operaciones vectoriales en texto o string, estas operaciones se aplicaran en columnas\\nde un data frame, es decir en Series. Utilizare una data de una prueba técnica que no pude limpiar'"
      ]
     },
     "execution_count": 2,
     "metadata": {},
     "output_type": "execute_result"
    }
   ],
   "source": [
    "'''La intención de este jupyter notebook es consolidar los conocimientos y habilidades practicas \n",
    "en el uso de operaciones vectoriales en texto o string, estas operaciones se aplicaran en columnas\n",
    "de un data frame, es decir en Series. Utilizare una data de una prueba técnica que no pude limpiar'''"
   ]
  },
  {
   "cell_type": "code",
   "execution_count": 3,
   "id": "f5e17fab",
   "metadata": {},
   "outputs": [],
   "source": [
    "# Inicialmente voy a cargar el dataset, este se encuentra en formato excel\n",
    "# Por esta razón utilizaré el comando pd.read_excel()\n",
    "# y especificare algunos parametros para el cargue adecuado de la data\n",
    "# sheet_name= \"base\" --> con este parametro especifico la hoja o hojas del archivo de Excel que se desea leer.\n",
    "# header=0 --> Indica la fila que se utilizará como encabezado de las columnas.\n",
    "# usecols= \"A:AM\" --> Permite seleccionar las columnas que se desean leer.\n",
    "# na_filter= False --> e utiliza para especificar si se deben detectar y reemplazar los valores de celdas vacías o no válidas (como \"NaN\" o \"NA\") durante la lectura de un archivo Excel."
   ]
  },
  {
   "cell_type": "code",
   "execution_count": 4,
   "id": "6ffc8bf8",
   "metadata": {},
   "outputs": [],
   "source": [
    "educacion=pd.read_excel(\"C:/Users/Andres/Downloads/Inscritos-2015-2021.xlsx\",sheet_name=\"base\", header=0, usecols=\"A:AM\", na_filter=False)"
   ]
  },
  {
   "cell_type": "code",
   "execution_count": 5,
   "id": "f101d1f9",
   "metadata": {},
   "outputs": [
    {
     "data": {
      "text/html": [
       "<div>\n",
       "<style scoped>\n",
       "    .dataframe tbody tr th:only-of-type {\n",
       "        vertical-align: middle;\n",
       "    }\n",
       "\n",
       "    .dataframe tbody tr th {\n",
       "        vertical-align: top;\n",
       "    }\n",
       "\n",
       "    .dataframe thead th {\n",
       "        text-align: right;\n",
       "    }\n",
       "</style>\n",
       "<table border=\"1\" class=\"dataframe\">\n",
       "  <thead>\n",
       "    <tr style=\"text-align: right;\">\n",
       "      <th></th>\n",
       "      <th>CÓDIGO DE LA INSTITUCIÓN</th>\n",
       "      <th>IES_PADRE</th>\n",
       "      <th>INSTITUCIÓN DE EDUCACIÓN SUPERIOR (IES)</th>\n",
       "      <th>PRINCIPAL O SECCIONAL</th>\n",
       "      <th>ID SECTOR</th>\n",
       "      <th>IES\\tSECTOR IES</th>\n",
       "      <th>ID CARACTER</th>\n",
       "      <th>CARACTER IES</th>\n",
       "      <th>CÓDIGO DEL DEPARTAMENTO (IES)</th>\n",
       "      <th>DEPARTAMENTO DE DOMICILIO DE LA IES</th>\n",
       "      <th>...</th>\n",
       "      <th>DESC CINE CODIGO DETALLADO</th>\n",
       "      <th>CÓDIGO DEL DEPARTAMENTO (PROGRAMA)</th>\n",
       "      <th>DEPARTAMENTO DE OFERTA DEL PROGRAMA</th>\n",
       "      <th>CÓDIGO DEL MUNICIPIO (PROGRAMA)</th>\n",
       "      <th>MUNICIPIO DE OFERTA DEL PROGRAMA</th>\n",
       "      <th>ID SEXO</th>\n",
       "      <th>SEXO</th>\n",
       "      <th>AÑO</th>\n",
       "      <th>SEMESTRE</th>\n",
       "      <th>INSCRITOS</th>\n",
       "    </tr>\n",
       "  </thead>\n",
       "  <tbody>\n",
       "    <tr>\n",
       "      <th>0</th>\n",
       "      <td>1101</td>\n",
       "      <td>1101</td>\n",
       "      <td>UNIVERSIDAD NACIONAL DE COLOMBIA</td>\n",
       "      <td>PRINCIPAL</td>\n",
       "      <td>1</td>\n",
       "      <td>OFICIAL</td>\n",
       "      <td>4</td>\n",
       "      <td>UNIVERSIDAD</td>\n",
       "      <td>11</td>\n",
       "      <td>BOGOTA D.C.</td>\n",
       "      <td>...</td>\n",
       "      <td></td>\n",
       "      <td>11</td>\n",
       "      <td>BOGOTA D.C.</td>\n",
       "      <td>11001</td>\n",
       "      <td>BOGOTA D.C.</td>\n",
       "      <td>2</td>\n",
       "      <td>FEMENINO</td>\n",
       "      <td>2015</td>\n",
       "      <td>1</td>\n",
       "      <td>44</td>\n",
       "    </tr>\n",
       "    <tr>\n",
       "      <th>1</th>\n",
       "      <td>1101</td>\n",
       "      <td>1101</td>\n",
       "      <td>UNIVERSIDAD NACIONAL DE COLOMBIA</td>\n",
       "      <td>PRINCIPAL</td>\n",
       "      <td>1</td>\n",
       "      <td>OFICIAL</td>\n",
       "      <td>4</td>\n",
       "      <td>UNIVERSIDAD</td>\n",
       "      <td>11</td>\n",
       "      <td>BOGOTA D.C.</td>\n",
       "      <td>...</td>\n",
       "      <td></td>\n",
       "      <td>11</td>\n",
       "      <td>BOGOTA D.C.</td>\n",
       "      <td>11001</td>\n",
       "      <td>BOGOTA D.C.</td>\n",
       "      <td>1</td>\n",
       "      <td>MASCULINO</td>\n",
       "      <td>2015</td>\n",
       "      <td>1</td>\n",
       "      <td>88</td>\n",
       "    </tr>\n",
       "    <tr>\n",
       "      <th>2</th>\n",
       "      <td>1101</td>\n",
       "      <td>1101</td>\n",
       "      <td>UNIVERSIDAD NACIONAL DE COLOMBIA</td>\n",
       "      <td>PRINCIPAL</td>\n",
       "      <td>1</td>\n",
       "      <td>OFICIAL</td>\n",
       "      <td>4</td>\n",
       "      <td>UNIVERSIDAD</td>\n",
       "      <td>11</td>\n",
       "      <td>BOGOTA D.C.</td>\n",
       "      <td>...</td>\n",
       "      <td></td>\n",
       "      <td>11</td>\n",
       "      <td>BOGOTA D.C.</td>\n",
       "      <td>11001</td>\n",
       "      <td>BOGOTA D.C.</td>\n",
       "      <td>2</td>\n",
       "      <td>FEMENINO</td>\n",
       "      <td>2015</td>\n",
       "      <td>1</td>\n",
       "      <td>50</td>\n",
       "    </tr>\n",
       "    <tr>\n",
       "      <th>3</th>\n",
       "      <td>1101</td>\n",
       "      <td>1101</td>\n",
       "      <td>UNIVERSIDAD NACIONAL DE COLOMBIA</td>\n",
       "      <td>PRINCIPAL</td>\n",
       "      <td>1</td>\n",
       "      <td>OFICIAL</td>\n",
       "      <td>4</td>\n",
       "      <td>UNIVERSIDAD</td>\n",
       "      <td>11</td>\n",
       "      <td>BOGOTA D.C.</td>\n",
       "      <td>...</td>\n",
       "      <td></td>\n",
       "      <td>11</td>\n",
       "      <td>BOGOTA D.C.</td>\n",
       "      <td>11001</td>\n",
       "      <td>BOGOTA D.C.</td>\n",
       "      <td>1</td>\n",
       "      <td>MASCULINO</td>\n",
       "      <td>2015</td>\n",
       "      <td>1</td>\n",
       "      <td>17</td>\n",
       "    </tr>\n",
       "    <tr>\n",
       "      <th>4</th>\n",
       "      <td>1101</td>\n",
       "      <td>1101</td>\n",
       "      <td>UNIVERSIDAD NACIONAL DE COLOMBIA</td>\n",
       "      <td>PRINCIPAL</td>\n",
       "      <td>1</td>\n",
       "      <td>OFICIAL</td>\n",
       "      <td>4</td>\n",
       "      <td>UNIVERSIDAD</td>\n",
       "      <td>11</td>\n",
       "      <td>BOGOTA D.C.</td>\n",
       "      <td>...</td>\n",
       "      <td></td>\n",
       "      <td>11</td>\n",
       "      <td>BOGOTA D.C.</td>\n",
       "      <td>11001</td>\n",
       "      <td>BOGOTA D.C.</td>\n",
       "      <td>2</td>\n",
       "      <td>FEMENINO</td>\n",
       "      <td>2015</td>\n",
       "      <td>1</td>\n",
       "      <td>64</td>\n",
       "    </tr>\n",
       "  </tbody>\n",
       "</table>\n",
       "<p>5 rows × 39 columns</p>\n",
       "</div>"
      ],
      "text/plain": [
       "   CÓDIGO DE LA INSTITUCIÓN  IES_PADRE  \\\n",
       "0                      1101       1101   \n",
       "1                      1101       1101   \n",
       "2                      1101       1101   \n",
       "3                      1101       1101   \n",
       "4                      1101       1101   \n",
       "\n",
       "  INSTITUCIÓN DE EDUCACIÓN SUPERIOR (IES) PRINCIPAL O SECCIONAL  ID SECTOR  \\\n",
       "0        UNIVERSIDAD NACIONAL DE COLOMBIA             PRINCIPAL          1   \n",
       "1        UNIVERSIDAD NACIONAL DE COLOMBIA             PRINCIPAL          1   \n",
       "2        UNIVERSIDAD NACIONAL DE COLOMBIA             PRINCIPAL          1   \n",
       "3        UNIVERSIDAD NACIONAL DE COLOMBIA             PRINCIPAL          1   \n",
       "4        UNIVERSIDAD NACIONAL DE COLOMBIA             PRINCIPAL          1   \n",
       "\n",
       "  IES\\tSECTOR IES  ID CARACTER CARACTER IES  CÓDIGO DEL DEPARTAMENTO (IES)  \\\n",
       "0         OFICIAL            4  UNIVERSIDAD                             11   \n",
       "1         OFICIAL            4  UNIVERSIDAD                             11   \n",
       "2         OFICIAL            4  UNIVERSIDAD                             11   \n",
       "3         OFICIAL            4  UNIVERSIDAD                             11   \n",
       "4         OFICIAL            4  UNIVERSIDAD                             11   \n",
       "\n",
       "  DEPARTAMENTO DE DOMICILIO DE LA IES  ...  DESC CINE CODIGO DETALLADO  \\\n",
       "0                         BOGOTA D.C.  ...                               \n",
       "1                         BOGOTA D.C.  ...                               \n",
       "2                         BOGOTA D.C.  ...                               \n",
       "3                         BOGOTA D.C.  ...                               \n",
       "4                         BOGOTA D.C.  ...                               \n",
       "\n",
       "  CÓDIGO DEL DEPARTAMENTO (PROGRAMA) DEPARTAMENTO DE OFERTA DEL PROGRAMA  \\\n",
       "0                                 11                         BOGOTA D.C.   \n",
       "1                                 11                         BOGOTA D.C.   \n",
       "2                                 11                         BOGOTA D.C.   \n",
       "3                                 11                         BOGOTA D.C.   \n",
       "4                                 11                         BOGOTA D.C.   \n",
       "\n",
       "  CÓDIGO DEL MUNICIPIO (PROGRAMA) MUNICIPIO DE OFERTA DEL PROGRAMA ID SEXO  \\\n",
       "0                           11001                      BOGOTA D.C.       2   \n",
       "1                           11001                      BOGOTA D.C.       1   \n",
       "2                           11001                      BOGOTA D.C.       2   \n",
       "3                           11001                      BOGOTA D.C.       1   \n",
       "4                           11001                      BOGOTA D.C.       2   \n",
       "\n",
       "        SEXO   AÑO SEMESTRE INSCRITOS  \n",
       "0   FEMENINO  2015        1        44  \n",
       "1  MASCULINO  2015        1        88  \n",
       "2   FEMENINO  2015        1        50  \n",
       "3  MASCULINO  2015        1        17  \n",
       "4   FEMENINO  2015        1        64  \n",
       "\n",
       "[5 rows x 39 columns]"
      ]
     },
     "execution_count": 5,
     "metadata": {},
     "output_type": "execute_result"
    }
   ],
   "source": [
    "# Verificamos que el dataframe se haya cargado de forma correcta con el .head()\n",
    "educacion.head()"
   ]
  },
  {
   "cell_type": "code",
   "execution_count": 6,
   "id": "a65a8001",
   "metadata": {},
   "outputs": [],
   "source": [
    "# Ahora creamos una copia del dataframe, para manipular la copia.\n",
    "inscritos= educacion.copy()"
   ]
  },
  {
   "cell_type": "code",
   "execution_count": 7,
   "id": "8bcfb1b9",
   "metadata": {},
   "outputs": [
    {
     "name": "stdout",
     "output_type": "stream",
     "text": [
      "<class 'pandas.core.frame.DataFrame'>\n",
      "RangeIndex: 330133 entries, 0 to 330132\n",
      "Data columns (total 39 columns):\n",
      " #   Column                                   Non-Null Count   Dtype \n",
      "---  ------                                   --------------   ----- \n",
      " 0   CÓDIGO DE LA INSTITUCIÓN                 330133 non-null  int64 \n",
      " 1   IES_PADRE                                330133 non-null  int64 \n",
      " 2   INSTITUCIÓN DE EDUCACIÓN SUPERIOR (IES)  330133 non-null  object\n",
      " 3   PRINCIPAL O SECCIONAL                    330133 non-null  object\n",
      " 4   ID SECTOR                                330133 non-null  int64 \n",
      " 5   IES\tSECTOR IES                           330133 non-null  object\n",
      " 6   ID CARACTER                              330133 non-null  int64 \n",
      " 7   CARACTER IES                             330133 non-null  object\n",
      " 8   CÓDIGO DEL DEPARTAMENTO (IES)            330133 non-null  int64 \n",
      " 9   DEPARTAMENTO DE DOMICILIO DE LA IES      330133 non-null  object\n",
      " 10  CÓDIGO DEL MUNICIPIO (IES)               330133 non-null  int64 \n",
      " 11  MUNICIPIO DE DOMICILIO DE LA IES         330133 non-null  object\n",
      " 12  CÓDIGO SNIES DEL PROGRAMA                330133 non-null  object\n",
      " 13  PROGRAMA ACADÉMICO                       330133 non-null  object\n",
      " 14  ID NIVEL ACADÉMICO                       330133 non-null  object\n",
      " 15  NIVEL ACADÉMICO                          330133 non-null  object\n",
      " 16  ID NIVEL DE FORMACIÓN                    330133 non-null  object\n",
      " 17  NIVEL DE FORMACIÓN                       330133 non-null  object\n",
      " 18  ID METODOLOGÍA                           330133 non-null  object\n",
      " 19  METODOLOGÍA                              330133 non-null  object\n",
      " 20  ID ÁREA                                  330133 non-null  object\n",
      " 21  ÁREA DE CONOCIMIENTO                     330133 non-null  object\n",
      " 22  ID NÚCLEO                                330133 non-null  object\n",
      " 23  NÚCLEO BÁSICO DEL CONOCIMIENTO (NBC)     330133 non-null  object\n",
      " 24  ID CINE CAMPO AMPLIO                     330133 non-null  object\n",
      " 25  DESC CINE CAMPO AMPLIO                   330133 non-null  object\n",
      " 26  ID CINE CAMPO ESPECIFICO                 330133 non-null  object\n",
      " 27  DESC CINE CAMPO ESPECIFICO               330133 non-null  object\n",
      " 28  ID CINE CODIGO DETALLADO                 330133 non-null  object\n",
      " 29  DESC CINE CODIGO DETALLADO               330133 non-null  object\n",
      " 30  CÓDIGO DEL DEPARTAMENTO (PROGRAMA)       330133 non-null  object\n",
      " 31  DEPARTAMENTO DE OFERTA DEL PROGRAMA      330133 non-null  object\n",
      " 32  CÓDIGO DEL MUNICIPIO (PROGRAMA)          330133 non-null  object\n",
      " 33  MUNICIPIO DE OFERTA DEL PROGRAMA         330133 non-null  object\n",
      " 34  ID SEXO                                  330133 non-null  int64 \n",
      " 35  SEXO                                     330133 non-null  object\n",
      " 36  AÑO                                      330133 non-null  int64 \n",
      " 37  SEMESTRE                                 330133 non-null  int64 \n",
      " 38  INSCRITOS                                330133 non-null  int64 \n",
      "dtypes: int64(10), object(29)\n",
      "memory usage: 98.2+ MB\n"
     ]
    }
   ],
   "source": [
    "# Comenzamos con el analisis exploratorio de los datos, primero observaremos la estructura y tipo de datos.\n",
    "inscritos.info()"
   ]
  },
  {
   "cell_type": "code",
   "execution_count": 8,
   "id": "5806c623",
   "metadata": {},
   "outputs": [
    {
     "data": {
      "text/plain": [
       "Index(['CÓDIGO DE LA INSTITUCIÓN', 'IES_PADRE',\n",
       "       'INSTITUCIÓN DE EDUCACIÓN SUPERIOR (IES)', 'PRINCIPAL O SECCIONAL',\n",
       "       'ID SECTOR', 'IES\\tSECTOR IES', 'ID CARACTER', 'CARACTER IES',\n",
       "       'CÓDIGO DEL DEPARTAMENTO (IES)', 'DEPARTAMENTO DE DOMICILIO DE LA IES',\n",
       "       'CÓDIGO DEL MUNICIPIO (IES)', 'MUNICIPIO DE DOMICILIO DE LA IES',\n",
       "       'CÓDIGO SNIES DEL PROGRAMA', 'PROGRAMA ACADÉMICO', 'ID NIVEL ACADÉMICO',\n",
       "       'NIVEL ACADÉMICO', 'ID NIVEL DE FORMACIÓN', 'NIVEL DE FORMACIÓN',\n",
       "       'ID METODOLOGÍA', 'METODOLOGÍA', 'ID ÁREA', 'ÁREA DE CONOCIMIENTO',\n",
       "       'ID NÚCLEO', 'NÚCLEO BÁSICO DEL CONOCIMIENTO (NBC)',\n",
       "       'ID CINE CAMPO AMPLIO', 'DESC CINE CAMPO AMPLIO',\n",
       "       'ID CINE CAMPO ESPECIFICO', 'DESC CINE CAMPO ESPECIFICO',\n",
       "       'ID CINE CODIGO DETALLADO', 'DESC CINE CODIGO DETALLADO',\n",
       "       'CÓDIGO DEL DEPARTAMENTO (PROGRAMA)',\n",
       "       'DEPARTAMENTO DE OFERTA DEL PROGRAMA',\n",
       "       'CÓDIGO DEL MUNICIPIO (PROGRAMA)', 'MUNICIPIO DE OFERTA DEL PROGRAMA',\n",
       "       'ID SEXO', 'SEXO', 'AÑO', 'SEMESTRE', 'INSCRITOS'],\n",
       "      dtype='object')"
      ]
     },
     "execution_count": 8,
     "metadata": {},
     "output_type": "execute_result"
    }
   ],
   "source": [
    "# ahora verificaremos el nombre de las columnas del dataframe\n",
    "inscritos.columns"
   ]
  },
  {
   "cell_type": "code",
   "execution_count": 9,
   "id": "e3008645",
   "metadata": {},
   "outputs": [],
   "source": [
    "# convertimos el nombre de las columnas para poder manipularlas mas facilmente\n",
    "# Se eliminan los espacios en blanco con str.strip()\n",
    "# Luego se reemplazan los espacios en blanco \" \", con _ a través de la funcion replace\n",
    "\n",
    "inscritos.columns = inscritos.columns.str.strip().str.replace(\" \", \"_\")"
   ]
  },
  {
   "cell_type": "code",
   "execution_count": 10,
   "id": "ff952004",
   "metadata": {},
   "outputs": [
    {
     "data": {
      "text/plain": [
       "Index(['CÓDIGO_DE_LA_INSTITUCIÓN', 'IES_PADRE',\n",
       "       'INSTITUCIÓN_DE_EDUCACIÓN_SUPERIOR_(IES)', 'PRINCIPAL_O_SECCIONAL',\n",
       "       'ID_SECTOR', 'IES\\tSECTOR_IES', 'ID_CARACTER', 'CARACTER_IES',\n",
       "       'CÓDIGO_DEL_DEPARTAMENTO_(IES)', 'DEPARTAMENTO_DE_DOMICILIO_DE_LA_IES',\n",
       "       'CÓDIGO_DEL_MUNICIPIO_(IES)', 'MUNICIPIO_DE_DOMICILIO_DE_LA_IES',\n",
       "       'CÓDIGO_SNIES_DEL_PROGRAMA', 'PROGRAMA_ACADÉMICO', 'ID_NIVEL_ACADÉMICO',\n",
       "       'NIVEL_ACADÉMICO', 'ID_NIVEL_DE_FORMACIÓN', 'NIVEL_DE_FORMACIÓN',\n",
       "       'ID_METODOLOGÍA', 'METODOLOGÍA', 'ID_ÁREA', 'ÁREA_DE_CONOCIMIENTO',\n",
       "       'ID_NÚCLEO', 'NÚCLEO_BÁSICO_DEL_CONOCIMIENTO_(NBC)',\n",
       "       'ID_CINE_CAMPO_AMPLIO', 'DESC_CINE_CAMPO_AMPLIO',\n",
       "       'ID_CINE_CAMPO_ESPECIFICO', 'DESC_CINE_CAMPO_ESPECIFICO',\n",
       "       'ID_CINE_CODIGO_DETALLADO', 'DESC_CINE_CODIGO_DETALLADO',\n",
       "       'CÓDIGO_DEL_DEPARTAMENTO_(PROGRAMA)',\n",
       "       'DEPARTAMENTO_DE_OFERTA_DEL_PROGRAMA',\n",
       "       'CÓDIGO_DEL_MUNICIPIO_(PROGRAMA)', 'MUNICIPIO_DE_OFERTA_DEL_PROGRAMA',\n",
       "       'ID_SEXO', 'SEXO', 'AÑO', 'SEMESTRE', 'INSCRITOS'],\n",
       "      dtype='object')"
      ]
     },
     "execution_count": 10,
     "metadata": {},
     "output_type": "execute_result"
    }
   ],
   "source": [
    "inscritos.columns"
   ]
  },
  {
   "cell_type": "code",
   "execution_count": 11,
   "id": "f1acb523",
   "metadata": {},
   "outputs": [
    {
     "data": {
      "text/plain": [
       "array(['BOGOTA D.C.', 'ANTIOQUIA', 'CALDAS', 'VALLE DEL CAUCA', 'BOYACA',\n",
       "       'CAUCA', 'RISARALDA', 'CORDOBA', 'HUILA', 'CAQUETA', 'CHOCO',\n",
       "       'META', 'CESAR', 'AMAZONAS', 'SAN ANDRES Y PROVIDENCIA',\n",
       "       'ATLANTICO', 'SANTANDER', 'BOLIVAR', 'NARINO', 'TOLIMA', 'QUINDIO',\n",
       "       'NORTE DE SANTANDER', 'MAGDALENA', 'CUNDINAMARCA', 'SUCRE',\n",
       "       'LA GUAJIRA', 'CASANARE', 'PUTUMAYO', 'Bogotá D.C', 'Antioquia',\n",
       "       'Caldas', 'Valle del Cauca', 'Boyacá', 'Magdalena', 'Cauca',\n",
       "       'Risaralda', 'Córdoba', 'Bolivar', 'Huila', 'Caquetá', 'Chocó',\n",
       "       'Meta', 'Cesar', 'Amazonas', 'San Andrés y Providencia',\n",
       "       'Atlántico', 'Santander', 'Nariño', 'Tolima', 'Quindío',\n",
       "       'Norte de Santander', 'Cundinamarca', 'Sucre', 'Guajira',\n",
       "       'Casanare', 'Putumayo', 'Arauca', 'BOGOTA D.C', 'NARIÑO',\n",
       "       'GUAJIRA', 'Bogotá D.C.', 'Valle del C', 'Archipiélag', 'Bolívar',\n",
       "       'Norte de Sa', 'Cundinamarc', 'La Guajira',\n",
       "       'Archipiélago de San Andrés, Providencia y Santa Catalina',\n",
       "       'Bogotá, D.C.', 'Valle Del Cauca',\n",
       "       'Archipiélago De San Andrés, Providencia Y Santa Catalina',\n",
       "       'Norte De Santander'], dtype=object)"
      ]
     },
     "execution_count": 11,
     "metadata": {},
     "output_type": "execute_result"
    }
   ],
   "source": [
    "# Ahora vamos a explorar la columna municipio_de_domicilio_de_la_ies\n",
    "# Identificamos los valores unicos de esta columna\n",
    "# Esta columna es de tipo dtype=object\n",
    "\n",
    "inscritos['DEPARTAMENTO_DE_DOMICILIO_DE_LA_IES'].unique()"
   ]
  },
  {
   "cell_type": "code",
   "execution_count": 12,
   "id": "0d440aeb",
   "metadata": {},
   "outputs": [],
   "source": [
    "# Con este analisis exploratorio de la columna o Serie DEPARTAMENTO_DE_DOMICILIO_DE_LA_IES podemos concluir lo siguiente:\n",
    "# 1. Hay registros en mayuscula y registros en minuscula\n",
    "# 2. Hay registros con caracteres especiales, especificamente tilde (´)\n",
    "# 3. Hay registros como bogota, san andres, guajira, nariño, etc. Que estan escritos de distintas maneras\n",
    "# 4. Los datos de la Serie son de tipo Object\n",
    "\n"
   ]
  },
  {
   "cell_type": "code",
   "execution_count": 13,
   "id": "8a3309c5",
   "metadata": {},
   "outputs": [
    {
     "data": {
      "text/plain": [
       "0                BOGOTA D.C.\n",
       "1                BOGOTA D.C.\n",
       "2                BOGOTA D.C.\n",
       "3                BOGOTA D.C.\n",
       "4                BOGOTA D.C.\n",
       "                 ...        \n",
       "330128    Norte De Santander\n",
       "330129    Norte De Santander\n",
       "330130    Norte De Santander\n",
       "330131    Norte De Santander\n",
       "330132    Norte De Santander\n",
       "Name: DEPARTAMENTO_DE_DOMICILIO_DE_LA_IES, Length: 330133, dtype: string"
      ]
     },
     "execution_count": 13,
     "metadata": {},
     "output_type": "execute_result"
    }
   ],
   "source": [
    "# Vamos a comenzar convirtiendo la columna de dtype=object a dtype=string\n",
    "inscritos['DEPARTAMENTO_DE_DOMICILIO_DE_LA_IES']=inscritos['DEPARTAMENTO_DE_DOMICILIO_DE_LA_IES'].astype('string')\n",
    "inscritos.DEPARTAMENTO_DE_DOMICILIO_DE_LA_IES"
   ]
  },
  {
   "cell_type": "code",
   "execution_count": 14,
   "id": "a3227f76",
   "metadata": {},
   "outputs": [
    {
     "data": {
      "text/plain": [
       "Bogotá D.C.                 56342\n",
       "BOGOTA D.C                  46840\n",
       "Bogotá, D.C.                29417\n",
       "Antioquia                   25295\n",
       "Bogotá D.C                  21710\n",
       "                            ...  \n",
       "Amazonas                       26\n",
       "Archipiélag                    18\n",
       "AMAZONAS                       18\n",
       "San Andrés y Providencia       13\n",
       "Arauca                          1\n",
       "Name: DEPARTAMENTO_DE_DOMICILIO_DE_LA_IES, Length: 72, dtype: Int64"
      ]
     },
     "execution_count": 14,
     "metadata": {},
     "output_type": "execute_result"
    }
   ],
   "source": [
    "# Vamos a explorar el conteo de valores de la serie\n",
    "inscritos['DEPARTAMENTO_DE_DOMICILIO_DE_LA_IES'].value_counts()"
   ]
  },
  {
   "cell_type": "code",
   "execution_count": 15,
   "id": "24dac444",
   "metadata": {},
   "outputs": [],
   "source": [
    "# El siguiente paaso de la limpieza de los datos de la columna es convertir todos los registros en mayuscula\n",
    "inscritos['DEPARTAMENTO_DE_DOMICILIO_DE_LA_IES']=inscritos['DEPARTAMENTO_DE_DOMICILIO_DE_LA_IES'].str.upper()"
   ]
  },
  {
   "cell_type": "code",
   "execution_count": 16,
   "id": "fa0cd80d",
   "metadata": {},
   "outputs": [
    {
     "data": {
      "text/plain": [
       "<StringArray>\n",
       "[                                             'BOGOTA D.C.',\n",
       "                                                'ANTIOQUIA',\n",
       "                                                   'CALDAS',\n",
       "                                          'VALLE DEL CAUCA',\n",
       "                                                   'BOYACA',\n",
       "                                                    'CAUCA',\n",
       "                                                'RISARALDA',\n",
       "                                                  'CORDOBA',\n",
       "                                                    'HUILA',\n",
       "                                                  'CAQUETA',\n",
       "                                                    'CHOCO',\n",
       "                                                     'META',\n",
       "                                                    'CESAR',\n",
       "                                                 'AMAZONAS',\n",
       "                                 'SAN ANDRES Y PROVIDENCIA',\n",
       "                                                'ATLANTICO',\n",
       "                                                'SANTANDER',\n",
       "                                                  'BOLIVAR',\n",
       "                                                   'NARINO',\n",
       "                                                   'TOLIMA',\n",
       "                                                  'QUINDIO',\n",
       "                                       'NORTE DE SANTANDER',\n",
       "                                                'MAGDALENA',\n",
       "                                             'CUNDINAMARCA',\n",
       "                                                    'SUCRE',\n",
       "                                               'LA GUAJIRA',\n",
       "                                                 'CASANARE',\n",
       "                                                 'PUTUMAYO',\n",
       "                                               'BOGOTÁ D.C',\n",
       "                                                   'BOYACÁ',\n",
       "                                                  'CÓRDOBA',\n",
       "                                                  'CAQUETÁ',\n",
       "                                                    'CHOCÓ',\n",
       "                                 'SAN ANDRÉS Y PROVIDENCIA',\n",
       "                                                'ATLÁNTICO',\n",
       "                                                   'NARIÑO',\n",
       "                                                  'QUINDÍO',\n",
       "                                                  'GUAJIRA',\n",
       "                                                   'ARAUCA',\n",
       "                                               'BOGOTA D.C',\n",
       "                                              'BOGOTÁ D.C.',\n",
       "                                              'VALLE DEL C',\n",
       "                                              'ARCHIPIÉLAG',\n",
       "                                                  'BOLÍVAR',\n",
       "                                              'NORTE DE SA',\n",
       "                                              'CUNDINAMARC',\n",
       " 'ARCHIPIÉLAGO DE SAN ANDRÉS, PROVIDENCIA Y SANTA CATALINA',\n",
       "                                             'BOGOTÁ, D.C.']\n",
       "Length: 48, dtype: string"
      ]
     },
     "execution_count": 16,
     "metadata": {},
     "output_type": "execute_result"
    }
   ],
   "source": [
    "inscritos.DEPARTAMENTO_DE_DOMICILIO_DE_LA_IES.unique()"
   ]
  },
  {
   "cell_type": "code",
   "execution_count": 17,
   "id": "757d2912",
   "metadata": {},
   "outputs": [],
   "source": [
    "# Ahora vamos a eliminar los caracteres especiales, especificamente las tildes(´)\n",
    "# El código from unidecode import unidecode importa la función unidecode de la biblioteca unidecode. \n",
    "# Esto significa que puedes utilizar la función unidecode() directamente en tu código sin tener que \n",
    "# escribir el nombre completo de la biblioteca cada vez que la utilices.\n",
    "from unidecode import unidecode"
   ]
  },
  {
   "cell_type": "code",
   "execution_count": 18,
   "id": "18980b7a",
   "metadata": {},
   "outputs": [],
   "source": [
    "inscritos['DEPARTAMENTO_DE_DOMICILIO_DE_LA_IES']=inscritos['DEPARTAMENTO_DE_DOMICILIO_DE_LA_IES'].apply(unidecode)"
   ]
  },
  {
   "cell_type": "code",
   "execution_count": 19,
   "id": "e5ffbb4e",
   "metadata": {},
   "outputs": [
    {
     "data": {
      "text/plain": [
       "array(['BOGOTA D.C.', 'ANTIOQUIA', 'CALDAS', 'VALLE DEL CAUCA', 'BOYACA',\n",
       "       'CAUCA', 'RISARALDA', 'CORDOBA', 'HUILA', 'CAQUETA', 'CHOCO',\n",
       "       'META', 'CESAR', 'AMAZONAS', 'SAN ANDRES Y PROVIDENCIA',\n",
       "       'ATLANTICO', 'SANTANDER', 'BOLIVAR', 'NARINO', 'TOLIMA', 'QUINDIO',\n",
       "       'NORTE DE SANTANDER', 'MAGDALENA', 'CUNDINAMARCA', 'SUCRE',\n",
       "       'LA GUAJIRA', 'CASANARE', 'PUTUMAYO', 'BOGOTA D.C', 'GUAJIRA',\n",
       "       'ARAUCA', 'VALLE DEL C', 'ARCHIPIELAG', 'NORTE DE SA',\n",
       "       'CUNDINAMARC',\n",
       "       'ARCHIPIELAGO DE SAN ANDRES, PROVIDENCIA Y SANTA CATALINA',\n",
       "       'BOGOTA, D.C.'], dtype=object)"
      ]
     },
     "execution_count": 19,
     "metadata": {},
     "output_type": "execute_result"
    }
   ],
   "source": [
    "inscritos['DEPARTAMENTO_DE_DOMICILIO_DE_LA_IES'].unique()"
   ]
  },
  {
   "cell_type": "code",
   "execution_count": 20,
   "id": "023f2c38",
   "metadata": {},
   "outputs": [
    {
     "data": {
      "text/plain": [
       "37"
      ]
     },
     "execution_count": 20,
     "metadata": {},
     "output_type": "execute_result"
    }
   ],
   "source": [
    "# Ahora vamos a determinar la cantidad de valores unicos que tenemos en la serie\n",
    "inscritos['DEPARTAMENTO_DE_DOMICILIO_DE_LA_IES'].nunique()"
   ]
  },
  {
   "cell_type": "code",
   "execution_count": 21,
   "id": "f11d4e69",
   "metadata": {},
   "outputs": [],
   "source": [
    "# Eliminar los caracteres especiales de los registros, especificamente los puntos(.) y las comas(,)\n",
    "\n",
    "inscritos['DEPARTAMENTO_DE_DOMICILIO_DE_LA_IES']=inscritos['DEPARTAMENTO_DE_DOMICILIO_DE_LA_IES'].str.replace('[.,]', '', regex=True)"
   ]
  },
  {
   "cell_type": "code",
   "execution_count": 22,
   "id": "6defc223",
   "metadata": {},
   "outputs": [
    {
     "data": {
      "text/plain": [
       "array(['BOGOTA DC', 'ANTIOQUIA', 'CALDAS', 'VALLE DEL CAUCA', 'BOYACA',\n",
       "       'CAUCA', 'RISARALDA', 'CORDOBA', 'HUILA', 'CAQUETA', 'CHOCO',\n",
       "       'META', 'CESAR', 'AMAZONAS', 'SAN ANDRES Y PROVIDENCIA',\n",
       "       'ATLANTICO', 'SANTANDER', 'BOLIVAR', 'NARINO', 'TOLIMA', 'QUINDIO',\n",
       "       'NORTE DE SANTANDER', 'MAGDALENA', 'CUNDINAMARCA', 'SUCRE',\n",
       "       'LA GUAJIRA', 'CASANARE', 'PUTUMAYO', 'GUAJIRA', 'ARAUCA',\n",
       "       'VALLE DEL C', 'ARCHIPIELAG', 'NORTE DE SA', 'CUNDINAMARC',\n",
       "       'ARCHIPIELAGO DE SAN ANDRES PROVIDENCIA Y SANTA CATALINA'],\n",
       "      dtype=object)"
      ]
     },
     "execution_count": 22,
     "metadata": {},
     "output_type": "execute_result"
    }
   ],
   "source": [
    "inscritos['DEPARTAMENTO_DE_DOMICILIO_DE_LA_IES'].unique()"
   ]
  },
  {
   "cell_type": "code",
   "execution_count": 23,
   "id": "5976a4af",
   "metadata": {},
   "outputs": [
    {
     "data": {
      "text/plain": [
       "35"
      ]
     },
     "execution_count": 23,
     "metadata": {},
     "output_type": "execute_result"
    }
   ],
   "source": [
    "inscritos['DEPARTAMENTO_DE_DOMICILIO_DE_LA_IES'].nunique()"
   ]
  },
  {
   "cell_type": "code",
   "execution_count": 24,
   "id": "cc847c41",
   "metadata": {},
   "outputs": [
    {
     "data": {
      "text/plain": [
       "BOGOTA DC                                                  175700\n",
       "ANTIOQUIA                                                   43269\n",
       "SANTANDER                                                   14043\n",
       "ATLANTICO                                                   13935\n",
       "VALLE DEL CAUCA                                             12678\n",
       "BOLIVAR                                                      8385\n",
       "CALDAS                                                       7205\n",
       "BOYACA                                                       6527\n",
       "TOLIMA                                                       4962\n",
       "NORTE DE SANTANDER                                           4913\n",
       "RISARALDA                                                    4406\n",
       "CAUCA                                                        4015\n",
       "CUNDINAMARCA                                                 3788\n",
       "NARINO                                                       3239\n",
       "QUINDIO                                                      2681\n",
       "CORDOBA                                                      2506\n",
       "MAGDALENA                                                    2292\n",
       "HUILA                                                        2172\n",
       "SUCRE                                                        2156\n",
       "VALLE DEL C                                                  2147\n",
       "CHOCO                                                        1967\n",
       "META                                                         1295\n",
       "CAQUETA                                                      1002\n",
       "CESAR                                                         893\n",
       "NORTE DE SA                                                   862\n",
       "LA GUAJIRA                                                    772\n",
       "GUAJIRA                                                       679\n",
       "CUNDINAMARC                                                   666\n",
       "CASANARE                                                      446\n",
       "PUTUMAYO                                                      350\n",
       "SAN ANDRES Y PROVIDENCIA                                       60\n",
       "ARCHIPIELAGO DE SAN ANDRES PROVIDENCIA Y SANTA CATALINA        59\n",
       "AMAZONAS                                                       44\n",
       "ARCHIPIELAG                                                    18\n",
       "ARAUCA                                                          1\n",
       "Name: DEPARTAMENTO_DE_DOMICILIO_DE_LA_IES, dtype: int64"
      ]
     },
     "execution_count": 24,
     "metadata": {},
     "output_type": "execute_result"
    }
   ],
   "source": [
    "inscritos['DEPARTAMENTO_DE_DOMICILIO_DE_LA_IES'].value_counts()"
   ]
  },
  {
   "cell_type": "code",
   "execution_count": 25,
   "id": "5f8ff8d3",
   "metadata": {},
   "outputs": [
    {
     "data": {
      "text/plain": [
       "array(['SAN ANDRES Y PROVIDENCIA',\n",
       "       'ARCHIPIELAGO DE SAN ANDRES PROVIDENCIA Y SANTA CATALINA'],\n",
       "      dtype=object)"
      ]
     },
     "execution_count": 25,
     "metadata": {},
     "output_type": "execute_result"
    }
   ],
   "source": [
    "# Ahora vamos a identificar que valores estan escritos de distintas maneras para uniformar los registros de las variables,\n",
    "# Para que nos quede una sola forma de registrar cada departamento\n",
    "# Vamos a comenzar con san andres\n",
    "\n",
    "san_andres=inscritos['DEPARTAMENTO_DE_DOMICILIO_DE_LA_IES'].str.contains('Andres', case=False, regex=True)\n",
    "\n",
    "# Obtener los registros que cumplen con el criterio\n",
    "dep_san = inscritos.loc[san_andres, 'DEPARTAMENTO_DE_DOMICILIO_DE_LA_IES']\n",
    "\n",
    "# Obtener los valores únicos\n",
    "valores_unicos_san = dep_san.unique()\n",
    "\n",
    "valores_unicos_san\n"
   ]
  },
  {
   "cell_type": "code",
   "execution_count": 26,
   "id": "bf428fd5",
   "metadata": {},
   "outputs": [],
   "source": [
    "valor_reemplazo='SAN ANDRES_PROVIDENCIA'"
   ]
  },
  {
   "cell_type": "code",
   "execution_count": 27,
   "id": "86e1313d",
   "metadata": {},
   "outputs": [],
   "source": [
    "# Crear el diccionario de reemplazos\n",
    "diccionario_reemplazos = dict(zip(valores_unicos_san, [valor_reemplazo] * len(valores_unicos_san)))"
   ]
  },
  {
   "cell_type": "code",
   "execution_count": 28,
   "id": "4f900fc7",
   "metadata": {},
   "outputs": [],
   "source": [
    "inscritos['DEPARTAMENTO_DE_DOMICILIO_DE_LA_IES']=inscritos['DEPARTAMENTO_DE_DOMICILIO_DE_LA_IES'].replace(diccionario_reemplazos,regex=True)"
   ]
  },
  {
   "cell_type": "code",
   "execution_count": 29,
   "id": "634c2145",
   "metadata": {},
   "outputs": [
    {
     "data": {
      "text/plain": [
       "array(['BOGOTA DC', 'ANTIOQUIA', 'CALDAS', 'VALLE DEL CAUCA', 'BOYACA',\n",
       "       'CAUCA', 'RISARALDA', 'CORDOBA', 'HUILA', 'CAQUETA', 'CHOCO',\n",
       "       'META', 'CESAR', 'AMAZONAS', 'SAN ANDRES_PROVIDENCIA', 'ATLANTICO',\n",
       "       'SANTANDER', 'BOLIVAR', 'NARINO', 'TOLIMA', 'QUINDIO',\n",
       "       'NORTE DE SANTANDER', 'MAGDALENA', 'CUNDINAMARCA', 'SUCRE',\n",
       "       'LA GUAJIRA', 'CASANARE', 'PUTUMAYO', 'GUAJIRA', 'ARAUCA',\n",
       "       'VALLE DEL C', 'ARCHIPIELAG', 'NORTE DE SA', 'CUNDINAMARC'],\n",
       "      dtype=object)"
      ]
     },
     "execution_count": 29,
     "metadata": {},
     "output_type": "execute_result"
    }
   ],
   "source": [
    "inscritos.DEPARTAMENTO_DE_DOMICILIO_DE_LA_IES.unique()"
   ]
  },
  {
   "cell_type": "code",
   "execution_count": 30,
   "id": "69774d56",
   "metadata": {},
   "outputs": [
    {
     "data": {
      "text/plain": [
       "34"
      ]
     },
     "execution_count": 30,
     "metadata": {},
     "output_type": "execute_result"
    }
   ],
   "source": [
    "inscritos.DEPARTAMENTO_DE_DOMICILIO_DE_LA_IES.nunique()"
   ]
  },
  {
   "cell_type": "code",
   "execution_count": 31,
   "id": "52b218bb",
   "metadata": {},
   "outputs": [
    {
     "data": {
      "text/plain": [
       "array(['CUNDINAMARCA', 'CUNDINAMARC'], dtype=object)"
      ]
     },
     "execution_count": 31,
     "metadata": {},
     "output_type": "execute_result"
    }
   ],
   "source": [
    "# Ahora vamos a identificar que valores estan escritos de distintas maneras para uniformar los registros de las variables,\n",
    "# Para que nos quede una sola forma de registrar cada departamento\n",
    "# Vamos a comenzar con san andres\n",
    "\n",
    "cundi=inscritos['DEPARTAMENTO_DE_DOMICILIO_DE_LA_IES'].str.contains('cundi', case=False, regex=True)\n",
    "\n",
    "# Obtener los registros que cumplen con el criterio\n",
    "dep_cundi = inscritos.loc[cundi, 'DEPARTAMENTO_DE_DOMICILIO_DE_LA_IES']\n",
    "\n",
    "# Obtener los valores únicos\n",
    "valores_unicos_cun = dep_cundi.unique()\n",
    "\n",
    "valores_unicos_cun"
   ]
  },
  {
   "cell_type": "code",
   "execution_count": 32,
   "id": "795d0018",
   "metadata": {},
   "outputs": [],
   "source": [
    "valor_reemplazo='CUNDINAMARCA'"
   ]
  },
  {
   "cell_type": "code",
   "execution_count": 33,
   "id": "a8f82aa0",
   "metadata": {},
   "outputs": [],
   "source": [
    "# Crear el diccionario de reemplazos\n",
    "diccionario_reemplazos = dict(zip(valores_unicos_cun, [valor_reemplazo] * len(valores_unicos_cun)))"
   ]
  },
  {
   "cell_type": "code",
   "execution_count": 34,
   "id": "cf139bea",
   "metadata": {},
   "outputs": [],
   "source": [
    "\n",
    "inscritos['DEPARTAMENTO_DE_DOMICILIO_DE_LA_IES']=inscritos['DEPARTAMENTO_DE_DOMICILIO_DE_LA_IES'].replace(diccionario_reemplazos,regex=True)"
   ]
  },
  {
   "cell_type": "code",
   "execution_count": 35,
   "id": "62f36b85",
   "metadata": {},
   "outputs": [
    {
     "data": {
      "text/plain": [
       "array(['BOGOTA DC', 'ANTIOQUIA', 'CALDAS', 'VALLE DEL CAUCA', 'BOYACA',\n",
       "       'CAUCA', 'RISARALDA', 'CORDOBA', 'HUILA', 'CAQUETA', 'CHOCO',\n",
       "       'META', 'CESAR', 'AMAZONAS', 'SAN ANDRES_PROVIDENCIA', 'ATLANTICO',\n",
       "       'SANTANDER', 'BOLIVAR', 'NARINO', 'TOLIMA', 'QUINDIO',\n",
       "       'NORTE DE SANTANDER', 'MAGDALENA', 'CUNDINAMARCAA', 'SUCRE',\n",
       "       'LA GUAJIRA', 'CASANARE', 'PUTUMAYO', 'GUAJIRA', 'ARAUCA',\n",
       "       'VALLE DEL C', 'ARCHIPIELAG', 'NORTE DE SA', 'CUNDINAMARCA'],\n",
       "      dtype=object)"
      ]
     },
     "execution_count": 35,
     "metadata": {},
     "output_type": "execute_result"
    }
   ],
   "source": [
    "inscritos.DEPARTAMENTO_DE_DOMICILIO_DE_LA_IES.unique()"
   ]
  },
  {
   "cell_type": "code",
   "execution_count": 36,
   "id": "63019e1c",
   "metadata": {},
   "outputs": [
    {
     "data": {
      "text/plain": [
       "34"
      ]
     },
     "execution_count": 36,
     "metadata": {},
     "output_type": "execute_result"
    }
   ],
   "source": [
    "inscritos.DEPARTAMENTO_DE_DOMICILIO_DE_LA_IES.nunique()"
   ]
  },
  {
   "cell_type": "code",
   "execution_count": 37,
   "id": "017ca346",
   "metadata": {},
   "outputs": [
    {
     "data": {
      "text/plain": [
       "array(['VALLE DEL CAUCA', 'VALLE DEL C'], dtype=object)"
      ]
     },
     "execution_count": 37,
     "metadata": {},
     "output_type": "execute_result"
    }
   ],
   "source": [
    "# Ahora vamos a identificar que valores estan escritos de distintas maneras para uniformar los registros de las variables,\n",
    "# Para que nos quede una sola forma de registrar cada departamento\n",
    "# Vamos a comenzar con san andres\n",
    "\n",
    "valle=inscritos['DEPARTAMENTO_DE_DOMICILIO_DE_LA_IES'].str.contains('valle', case=False, regex=True)\n",
    "\n",
    "# Obtener los registros que cumplen con el criterio\n",
    "dep_valle = inscritos.loc[valle, 'DEPARTAMENTO_DE_DOMICILIO_DE_LA_IES']\n",
    "\n",
    "# Obtener los valores únicos\n",
    "valores_unicos_valle = dep_valle.unique()\n",
    "\n",
    "valores_unicos_valle"
   ]
  },
  {
   "cell_type": "code",
   "execution_count": 38,
   "id": "295253bf",
   "metadata": {},
   "outputs": [],
   "source": [
    "valor_reemplazo='VALLE DEL CAUCA'"
   ]
  },
  {
   "cell_type": "code",
   "execution_count": 39,
   "id": "d96f02de",
   "metadata": {},
   "outputs": [],
   "source": [
    "# Crear el diccionario de reemplazos\n",
    "diccionario_reemplazos = dict(zip(valores_unicos_valle, [valor_reemplazo] * len(valor_reemplazo)))"
   ]
  },
  {
   "cell_type": "code",
   "execution_count": 40,
   "id": "31c370ed",
   "metadata": {},
   "outputs": [],
   "source": [
    "inscritos['DEPARTAMENTO_DE_DOMICILIO_DE_LA_IES']=inscritos['DEPARTAMENTO_DE_DOMICILIO_DE_LA_IES'].replace(valor_reemplazo,regex=True)"
   ]
  },
  {
   "cell_type": "code",
   "execution_count": 41,
   "id": "f6c0ad52",
   "metadata": {},
   "outputs": [
    {
     "data": {
      "text/plain": [
       "array(['BOGOTA DC', 'ANTIOQUIA', 'CALDAS', 'BOYACA', 'CAUCA', 'RISARALDA',\n",
       "       'CORDOBA', 'HUILA', 'CAQUETA', 'CHOCO', 'META', 'CESAR',\n",
       "       'AMAZONAS', 'SAN ANDRES_PROVIDENCIA', 'ATLANTICO', 'SANTANDER',\n",
       "       'BOLIVAR', 'NARINO', 'TOLIMA', 'QUINDIO', 'NORTE DE SANTANDER',\n",
       "       'MAGDALENA', 'CUNDINAMARCAA', 'SUCRE', 'LA GUAJIRA', 'CASANARE',\n",
       "       'PUTUMAYO', 'GUAJIRA', 'ARAUCA', 'VALLE DEL C', 'ARCHIPIELAG',\n",
       "       'NORTE DE SA', 'CUNDINAMARCA'], dtype=object)"
      ]
     },
     "execution_count": 41,
     "metadata": {},
     "output_type": "execute_result"
    }
   ],
   "source": [
    "inscritos.DEPARTAMENTO_DE_DOMICILIO_DE_LA_IES.unique()"
   ]
  },
  {
   "cell_type": "code",
   "execution_count": 42,
   "id": "c676f164",
   "metadata": {},
   "outputs": [
    {
     "data": {
      "text/plain": [
       "array(['LA GUAJIRA', 'GUAJIRA'], dtype=object)"
      ]
     },
     "execution_count": 42,
     "metadata": {},
     "output_type": "execute_result"
    }
   ],
   "source": [
    "# Ahora vamos a identificar que valores estan escritos de distintas maneras para uniformar los registros de las variables,\n",
    "# Para que nos quede una sola forma de registrar cada departamento\n",
    "# Vamos a comenzar con san andres\n",
    "\n",
    "guaji=inscritos['DEPARTAMENTO_DE_DOMICILIO_DE_LA_IES'].str.contains('guajira', case=False, regex=True)\n",
    "\n",
    "# Obtener los registros que cumplen con el criterio\n",
    "dep_guaji = inscritos.loc[guaji, 'DEPARTAMENTO_DE_DOMICILIO_DE_LA_IES']\n",
    "\n",
    "# Obtener los valores únicos\n",
    "valores_unicos_guaji = dep_guaji.unique()\n",
    "\n",
    "valores_unicos_guaji"
   ]
  },
  {
   "cell_type": "code",
   "execution_count": 43,
   "id": "36977821",
   "metadata": {},
   "outputs": [],
   "source": [
    "reemplazo='GUAJIRA'"
   ]
  },
  {
   "cell_type": "code",
   "execution_count": 44,
   "id": "b7c25e3e",
   "metadata": {},
   "outputs": [],
   "source": [
    "# Crear el diccionario de reemplazos\n",
    "diccionario_reemplazos = dict(zip(valores_unicos_guaji, [reemplazo] * len(valores_unicos_guaji)))"
   ]
  },
  {
   "cell_type": "code",
   "execution_count": 45,
   "id": "09f6b6bc",
   "metadata": {},
   "outputs": [],
   "source": [
    "inscritos['DEPARTAMENTO_DE_DOMICILIO_DE_LA_IES']=inscritos['DEPARTAMENTO_DE_DOMICILIO_DE_LA_IES'].replace(diccionario_reemplazos,regex=True)"
   ]
  },
  {
   "cell_type": "code",
   "execution_count": 46,
   "id": "9e0ac839",
   "metadata": {},
   "outputs": [
    {
     "data": {
      "text/plain": [
       "array(['BOGOTA DC', 'ANTIOQUIA', 'CALDAS', 'BOYACA', 'CAUCA', 'RISARALDA',\n",
       "       'CORDOBA', 'HUILA', 'CAQUETA', 'CHOCO', 'META', 'CESAR',\n",
       "       'AMAZONAS', 'SAN ANDRES_PROVIDENCIA', 'ATLANTICO', 'SANTANDER',\n",
       "       'BOLIVAR', 'NARINO', 'TOLIMA', 'QUINDIO', 'NORTE DE SANTANDER',\n",
       "       'MAGDALENA', 'CUNDINAMARCAA', 'SUCRE', 'GUAJIRA', 'CASANARE',\n",
       "       'PUTUMAYO', 'ARAUCA', 'VALLE DEL C', 'ARCHIPIELAG', 'NORTE DE SA',\n",
       "       'CUNDINAMARCA'], dtype=object)"
      ]
     },
     "execution_count": 46,
     "metadata": {},
     "output_type": "execute_result"
    }
   ],
   "source": [
    "inscritos.DEPARTAMENTO_DE_DOMICILIO_DE_LA_IES.unique()"
   ]
  },
  {
   "cell_type": "code",
   "execution_count": 47,
   "id": "9d02afa7",
   "metadata": {},
   "outputs": [
    {
     "data": {
      "text/plain": [
       "array(['NORTE DE SANTANDER', 'NORTE DE SA'], dtype=object)"
      ]
     },
     "execution_count": 47,
     "metadata": {},
     "output_type": "execute_result"
    }
   ],
   "source": [
    "# Ahora vamos a identificar que valores estan escritos de distintas maneras para uniformar los registros de las variables,\n",
    "# Para que nos quede una sola forma de registrar cada departamento\n",
    "# Vamos a comenzar con san andres\n",
    "\n",
    "norte=inscritos['DEPARTAMENTO_DE_DOMICILIO_DE_LA_IES'].str.contains('norte', case=False, regex=True)\n",
    "\n",
    "# Obtener los registros que cumplen con el criterio\n",
    "dep_norte = inscritos.loc[norte, 'DEPARTAMENTO_DE_DOMICILIO_DE_LA_IES']\n",
    "\n",
    "# Obtener los valores únicos\n",
    "valores_unicos_norte = dep_norte.unique()\n",
    "\n",
    "valores_unicos_norte"
   ]
  },
  {
   "cell_type": "code",
   "execution_count": 48,
   "id": "94caae26",
   "metadata": {},
   "outputs": [],
   "source": [
    "reemplazo='NORTE DE SANTANDER'"
   ]
  },
  {
   "cell_type": "code",
   "execution_count": 49,
   "id": "989ef504",
   "metadata": {},
   "outputs": [],
   "source": [
    "# Crear el diccionario de reemplazos\n",
    "diccionario_reemplazos = dict(zip(valores_unicos_norte, [reemplazo] * len(valores_unicos_norte)))"
   ]
  },
  {
   "cell_type": "code",
   "execution_count": 50,
   "id": "6a0a72fe",
   "metadata": {},
   "outputs": [],
   "source": [
    "inscritos['DEPARTAMENTO_DE_DOMICILIO_DE_LA_IES']=inscritos['DEPARTAMENTO_DE_DOMICILIO_DE_LA_IES'].replace(diccionario_reemplazos,regex=True)"
   ]
  },
  {
   "cell_type": "code",
   "execution_count": 51,
   "id": "e44f51c2",
   "metadata": {},
   "outputs": [
    {
     "data": {
      "text/plain": [
       "array(['BOGOTA DC', 'ANTIOQUIA', 'CALDAS', 'BOYACA', 'CAUCA', 'RISARALDA',\n",
       "       'CORDOBA', 'HUILA', 'CAQUETA', 'CHOCO', 'META', 'CESAR',\n",
       "       'AMAZONAS', 'SAN ANDRES_PROVIDENCIA', 'ATLANTICO', 'SANTANDER',\n",
       "       'BOLIVAR', 'NARINO', 'TOLIMA', 'QUINDIO',\n",
       "       'NORTE DE SANTANDERNTANDER', 'MAGDALENA', 'CUNDINAMARCAA', 'SUCRE',\n",
       "       'GUAJIRA', 'CASANARE', 'PUTUMAYO', 'ARAUCA', 'VALLE DEL C',\n",
       "       'ARCHIPIELAG', 'NORTE DE SANTANDER', 'CUNDINAMARCA'], dtype=object)"
      ]
     },
     "execution_count": 51,
     "metadata": {},
     "output_type": "execute_result"
    }
   ],
   "source": [
    "inscritos.DEPARTAMENTO_DE_DOMICILIO_DE_LA_IES.unique()"
   ]
  },
  {
   "cell_type": "code",
   "execution_count": 52,
   "id": "8d7c26a4",
   "metadata": {},
   "outputs": [
    {
     "data": {
      "text/plain": [
       "array(['NORTE DE SANTANDERNTANDER', 'NORTE DE SANTANDER'], dtype=object)"
      ]
     },
     "execution_count": 52,
     "metadata": {},
     "output_type": "execute_result"
    }
   ],
   "source": [
    "# Ahora vamos a identificar que valores estan escritos de distintas maneras para uniformar los registros de las variables,\n",
    "# Para que nos quede una sola forma de registrar cada departamento\n",
    "# Vamos a comenzar con san andres\n",
    "\n",
    "norte=inscritos['DEPARTAMENTO_DE_DOMICILIO_DE_LA_IES'].str.contains('norte', case=False, regex=True)\n",
    "\n",
    "# Obtener los registros que cumplen con el criterio\n",
    "dep_norte = inscritos.loc[norte, 'DEPARTAMENTO_DE_DOMICILIO_DE_LA_IES']\n",
    "\n",
    "# Obtener los valores únicos\n",
    "valores_unicos_norte = dep_norte.unique()\n",
    "\n",
    "valores_unicos_norte"
   ]
  },
  {
   "cell_type": "code",
   "execution_count": 53,
   "id": "aa2b0111",
   "metadata": {},
   "outputs": [],
   "source": [
    "# Crear el diccionario de reemplazos\n",
    "diccionario_reemplazos = dict(zip(valores_unicos_norte, [reemplazo] * len(valores_unicos_norte)))"
   ]
  },
  {
   "cell_type": "code",
   "execution_count": 54,
   "id": "187b7969",
   "metadata": {},
   "outputs": [],
   "source": [
    "inscritos['DEPARTAMENTO_DE_DOMICILIO_DE_LA_IES']=inscritos['DEPARTAMENTO_DE_DOMICILIO_DE_LA_IES'].replace(diccionario_reemplazos,regex=True)"
   ]
  },
  {
   "cell_type": "code",
   "execution_count": 55,
   "id": "9c59da29",
   "metadata": {},
   "outputs": [
    {
     "data": {
      "text/plain": [
       "array(['BOGOTA DC', 'ANTIOQUIA', 'CALDAS', 'BOYACA', 'CAUCA', 'RISARALDA',\n",
       "       'CORDOBA', 'HUILA', 'CAQUETA', 'CHOCO', 'META', 'CESAR',\n",
       "       'AMAZONAS', 'SAN ANDRES_PROVIDENCIA', 'ATLANTICO', 'SANTANDER',\n",
       "       'BOLIVAR', 'NARINO', 'TOLIMA', 'QUINDIO', 'NORTE DE SANTANDER',\n",
       "       'MAGDALENA', 'CUNDINAMARCAA', 'SUCRE', 'GUAJIRA', 'CASANARE',\n",
       "       'PUTUMAYO', 'ARAUCA', 'VALLE DEL C', 'ARCHIPIELAG', 'CUNDINAMARCA'],\n",
       "      dtype=object)"
      ]
     },
     "execution_count": 55,
     "metadata": {},
     "output_type": "execute_result"
    }
   ],
   "source": [
    "inscritos.DEPARTAMENTO_DE_DOMICILIO_DE_LA_IES.unique()"
   ]
  },
  {
   "cell_type": "code",
   "execution_count": 56,
   "id": "2f0572fe",
   "metadata": {},
   "outputs": [
    {
     "data": {
      "text/plain": [
       "31"
      ]
     },
     "execution_count": 56,
     "metadata": {},
     "output_type": "execute_result"
    }
   ],
   "source": [
    "inscritos.DEPARTAMENTO_DE_DOMICILIO_DE_LA_IES.nunique()"
   ]
  },
  {
   "cell_type": "code",
   "execution_count": 60,
   "id": "b90af4de",
   "metadata": {},
   "outputs": [
    {
     "data": {
      "text/plain": [
       "array(['CUNDINAMARCAA', 'CUNDINAMARCA'], dtype=object)"
      ]
     },
     "execution_count": 60,
     "metadata": {},
     "output_type": "execute_result"
    }
   ],
   "source": [
    "# Ahora vamos a identificar que valores estan escritos de distintas maneras para uniformar los registros de las variables,\n",
    "# Para que nos quede una sola forma de registrar cada departamento\n",
    "# Vamos a comenzar con san andres\n",
    "\n",
    "cundi=inscritos['DEPARTAMENTO_DE_DOMICILIO_DE_LA_IES'].str.contains('cundi', case=False, regex=True)\n",
    "\n",
    "# Obtener los registros que cumplen con el criterio\n",
    "dep_cundi = inscritos.loc[cundi, 'DEPARTAMENTO_DE_DOMICILIO_DE_LA_IES']\n",
    "\n",
    "# Obtener los valores únicos\n",
    "valores_unicos_cun = dep_cundi.unique()\n",
    "\n",
    "valores_unicos_cun"
   ]
  },
  {
   "cell_type": "code",
   "execution_count": 61,
   "id": "b395c593",
   "metadata": {},
   "outputs": [],
   "source": [
    "reemplazo='CUNDINAMARCA'"
   ]
  },
  {
   "cell_type": "code",
   "execution_count": 62,
   "id": "00081b09",
   "metadata": {},
   "outputs": [],
   "source": [
    "# Crear el diccionario de reemplazos\n",
    "diccionario_reemplazos = dict(zip(valores_unicos_cun, [reemplazo] * len(valores_unicos_cun)))"
   ]
  },
  {
   "cell_type": "code",
   "execution_count": 63,
   "id": "651b7ca3",
   "metadata": {},
   "outputs": [],
   "source": [
    "inscritos['DEPARTAMENTO_DE_DOMICILIO_DE_LA_IES']=inscritos['DEPARTAMENTO_DE_DOMICILIO_DE_LA_IES'].replace(diccionario_reemplazos,regex=True)"
   ]
  },
  {
   "cell_type": "code",
   "execution_count": 64,
   "id": "265d61fa",
   "metadata": {},
   "outputs": [
    {
     "data": {
      "text/plain": [
       "array(['BOGOTA DC', 'ANTIOQUIA', 'CALDAS', 'BOYACA', 'CAUCA', 'RISARALDA',\n",
       "       'CORDOBA', 'HUILA', 'CAQUETA', 'CHOCO', 'META', 'CESAR',\n",
       "       'AMAZONAS', 'SAN ANDRES_PROVIDENCIA', 'ATLANTICO', 'SANTANDER',\n",
       "       'BOLIVAR', 'NARINO', 'TOLIMA', 'QUINDIO', 'NORTE DE SANTANDER',\n",
       "       'MAGDALENA', 'CUNDINAMARCA', 'SUCRE', 'GUAJIRA', 'CASANARE',\n",
       "       'PUTUMAYO', 'ARAUCA', 'VALLE DEL C', 'ARCHIPIELAG'], dtype=object)"
      ]
     },
     "execution_count": 64,
     "metadata": {},
     "output_type": "execute_result"
    }
   ],
   "source": [
    "inscritos.DEPARTAMENTO_DE_DOMICILIO_DE_LA_IES.unique()"
   ]
  },
  {
   "cell_type": "code",
   "execution_count": 65,
   "id": "43098f8f",
   "metadata": {},
   "outputs": [],
   "source": [
    "inscritos['DEPARTAMENTO_DE_DOMICILIO_DE_LA_IES'] = inscritos['DEPARTAMENTO_DE_DOMICILIO_DE_LA_IES'].replace('ARCHIPIELAG', 'SAN ANDRES_PROVIDENCIA')"
   ]
  },
  {
   "cell_type": "code",
   "execution_count": 66,
   "id": "87b974ef",
   "metadata": {},
   "outputs": [
    {
     "data": {
      "text/plain": [
       "array(['BOGOTA DC', 'ANTIOQUIA', 'CALDAS', 'BOYACA', 'CAUCA', 'RISARALDA',\n",
       "       'CORDOBA', 'HUILA', 'CAQUETA', 'CHOCO', 'META', 'CESAR',\n",
       "       'AMAZONAS', 'SAN ANDRES_PROVIDENCIA', 'ATLANTICO', 'SANTANDER',\n",
       "       'BOLIVAR', 'NARINO', 'TOLIMA', 'QUINDIO', 'NORTE DE SANTANDER',\n",
       "       'MAGDALENA', 'CUNDINAMARCA', 'SUCRE', 'GUAJIRA', 'CASANARE',\n",
       "       'PUTUMAYO', 'ARAUCA', 'VALLE DEL C'], dtype=object)"
      ]
     },
     "execution_count": 66,
     "metadata": {},
     "output_type": "execute_result"
    }
   ],
   "source": [
    "inscritos.DEPARTAMENTO_DE_DOMICILIO_DE_LA_IES.unique()"
   ]
  },
  {
   "cell_type": "code",
   "execution_count": 67,
   "id": "7762f410",
   "metadata": {},
   "outputs": [
    {
     "data": {
      "text/plain": [
       "29"
      ]
     },
     "execution_count": 67,
     "metadata": {},
     "output_type": "execute_result"
    }
   ],
   "source": [
    "inscritos.DEPARTAMENTO_DE_DOMICILIO_DE_LA_IES.nunique()"
   ]
  },
  {
   "cell_type": "code",
   "execution_count": null,
   "id": "46c0befc",
   "metadata": {},
   "outputs": [],
   "source": []
  }
 ],
 "metadata": {
  "kernelspec": {
   "display_name": "Python 3 (ipykernel)",
   "language": "python",
   "name": "python3"
  },
  "language_info": {
   "codemirror_mode": {
    "name": "ipython",
    "version": 3
   },
   "file_extension": ".py",
   "mimetype": "text/x-python",
   "name": "python",
   "nbconvert_exporter": "python",
   "pygments_lexer": "ipython3",
   "version": "3.9.13"
  }
 },
 "nbformat": 4,
 "nbformat_minor": 5
}
